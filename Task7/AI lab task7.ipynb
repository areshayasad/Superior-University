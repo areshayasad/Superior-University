{
 "cells": [
  {
   "cell_type": "code",
   "execution_count": 1,
   "metadata": {},
   "outputs": [
    {
     "name": "stdout",
     "output_type": "stream",
     "text": [
      "Path found: ['A', 'B', 'E', 'G']\n"
     ]
    }
   ],
   "source": [
    "class Node:\n",
    "    def __init__(self, name, g=0, h=0):\n",
    "        self.name = name\n",
    "        self.g = g  \n",
    "        self.h = h  \n",
    "        self.f = g + h  \n",
    "        self.parent = None  \n",
    "def astar(graph, start, goal, heuristic):\n",
    "    open_list = []\n",
    "    closed_list = []\n",
    "\n",
    "    start_node = Node(start, g=0, h=heuristic[start])\n",
    "    goal_node = Node(goal)\n",
    "\n",
    "    open_list.append(start_node)\n",
    "\n",
    "    while open_list:\n",
    "        open_list.sort(key=lambda x: x.f)\n",
    "        current_node = open_list.pop(0)\n",
    "        closed_list.append(current_node)\n",
    "\n",
    "        if current_node.name == goal_node.name:\n",
    "            path = []\n",
    "            while current_node:\n",
    "                path.append(current_node.name)\n",
    "                current_node = current_node.parent\n",
    "            return path[::-1]  \n",
    "\n",
    "        neighbors = graph[current_node.name]\n",
    "        for neighbor_name, cost in neighbors:\n",
    "            if any(closed_neighbor.name == neighbor_name for closed_neighbor in closed_list):\n",
    "                continue\n",
    "            g = current_node.g + cost\n",
    "            h = heuristic[neighbor_name]\n",
    "            neighbor_node = Node(neighbor_name, g, h)\n",
    "            neighbor_node.parent = current_node\n",
    "\n",
    "            open_neighbor = next((n for n in open_list if n.name == neighbor_name), None)\n",
    "            if open_neighbor and g < open_neighbor.g:\n",
    "                open_neighbor.g = g\n",
    "                open_neighbor.f = g + open_neighbor.h\n",
    "                open_neighbor.parent = current_node\n",
    "            elif not open_neighbor:\n",
    "                open_list.append(neighbor_node)\n",
    "    return None\n",
    "\n",
    "graph = {\n",
    "    'A': [('B', 1), ('C', 3)],\n",
    "    'B': [('D', 1), ('E', 4)],\n",
    "    'C': [('F', 2)],\n",
    "    'D': [('G', 5)],\n",
    "    'E': [('G', 1)],\n",
    "    'F': [('G', 6)],\n",
    "    'G': []\n",
    "}\n",
    "\n",
    "heuristic = {\n",
    "    'A': 7,\n",
    "    'B': 6,\n",
    "    'C': 2,\n",
    "    'D': 3,\n",
    "    'E': 2,\n",
    "    'F': 1,\n",
    "    'G': 0\n",
    "}\n",
    "start = 'A'\n",
    "goal = 'G'\n",
    "path = astar(graph, start, goal, heuristic)\n",
    "if path:\n",
    "    print(f\"Path found: {path}\")\n",
    "else:\n",
    "    print(\"No path found\")"
   ]
  }
 ],
 "metadata": {
  "kernelspec": {
   "display_name": "Python 3",
   "language": "python",
   "name": "python3"
  },
  "language_info": {
   "codemirror_mode": {
    "name": "ipython",
    "version": 3
   },
   "file_extension": ".py",
   "mimetype": "text/x-python",
   "name": "python",
   "nbconvert_exporter": "python",
   "pygments_lexer": "ipython3",
   "version": "3.12.3"
  }
 },
 "nbformat": 4,
 "nbformat_minor": 2
}
