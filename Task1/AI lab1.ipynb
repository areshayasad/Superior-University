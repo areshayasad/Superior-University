{
 "cells": [
  {
   "cell_type": "code",
   "execution_count": 1,
   "metadata": {},
   "outputs": [
    {
     "name": "stdout",
     "output_type": "stream",
     "text": [
      "1. Learn Python [x]\n",
      "2. Learn dance [x]\n",
      "1. Learn Python [done]\n",
      "2. Learn dance [x]\n",
      "1. Learn Python [done]\n"
     ]
    }
   ],
   "source": [
    "class TodoList:\n",
    "    def __init__(self):\n",
    "        self.tasks = []\n",
    "    def add_task(self, task):\n",
    "        self.tasks.append({\"task\": task, \"completed\": False})\n",
    "    def remove_task(self, index):\n",
    "        if 0 <= index < len(self.tasks):\n",
    "            self.tasks.pop(index)\n",
    "        else:\n",
    "            print(\"Invalid task number\")\n",
    "    def complete_task(self, index):\n",
    "        if 0 <= index < len(self.tasks):\n",
    "            self.tasks[index][\"completed\"] = True\n",
    "        else:\n",
    "            print(\"Invalid task number\")\n",
    "    def show_tasks(self):\n",
    "        for i, task in enumerate(self.tasks):\n",
    "            status = \"done\" if task[\"completed\"] else \"x\"\n",
    "            print(f\"{i + 1}. {task['task']} [{status}]\")\n",
    "todo = TodoList()\n",
    "todo.add_task(\"Learn Python\")\n",
    "todo.add_task(\"Learn dance\")\n",
    "todo.show_tasks()\n",
    "todo.complete_task(0)\n",
    "todo.show_tasks()\n",
    "todo.remove_task(1)\n",
    "todo.show_tasks()\n"
   ]
  }
 ],
 "metadata": {
  "kernelspec": {
   "display_name": "Python 3",
   "language": "python",
   "name": "python3"
  },
  "language_info": {
   "codemirror_mode": {
    "name": "ipython",
    "version": 3
   },
   "file_extension": ".py",
   "mimetype": "text/x-python",
   "name": "python",
   "nbconvert_exporter": "python",
   "pygments_lexer": "ipython3",
   "version": "3.11.8"
  }
 },
 "nbformat": 4,
 "nbformat_minor": 2
}
