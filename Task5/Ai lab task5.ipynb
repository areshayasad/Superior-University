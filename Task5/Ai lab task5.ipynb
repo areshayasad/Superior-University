{
 "cells": [
  {
   "cell_type": "code",
   "execution_count": 1,
   "metadata": {},
   "outputs": [
    {
     "name": "stdout",
     "output_type": "stream",
     "text": [
      "1 2 4 5 3 "
     ]
    }
   ],
   "source": [
    "#Task1\n",
    "class Node:\n",
    "    def __init__(self, value):\n",
    "        self.value = value\n",
    "        self.left = None\n",
    "        self.right = None\n",
    "def dfs_with_stack(root):\n",
    "    if root is None:\n",
    "        return\n",
    "    stack = []\n",
    "    stack.append(root)\n",
    "    while stack:\n",
    "        node = stack.pop()\n",
    "        print(node.value, end=' ')\n",
    "        if node.right:\n",
    "            stack.append(node.right)\n",
    "        if node.left:\n",
    "            stack.append(node.left)\n",
    "root = Node(1)\n",
    "root.left = Node(2)\n",
    "root.right = Node(3)\n",
    "root.left.left = Node(4)\n",
    "root.left.right = Node(5)\n",
    "dfs_with_stack(root)"
   ]
  },
  {
   "cell_type": "code",
   "execution_count": 2,
   "metadata": {},
   "outputs": [
    {
     "name": "stdout",
     "output_type": "stream",
     "text": [
      "Preorder traversal:\n",
      "1 2 4 5 3 \n",
      "Inorder traversal:\n",
      "4 2 5 1 3 \n",
      "Postorder traversal:\n",
      "4 5 2 3 1 "
     ]
    }
   ],
   "source": [
    "#Task2\n",
    "class Node:\n",
    "    def __init__(self, value):\n",
    "        self.value = value\n",
    "        self.left = None\n",
    "        self.right = None\n",
    "def preorder(node):\n",
    "    if node:\n",
    "        print(node.value, end=' ')\n",
    "        preorder(node.left)\n",
    "        preorder(node.right)\n",
    "def inorder(node):\n",
    "    if node:\n",
    "        inorder(node.left)\n",
    "        print(node.value, end=' ')\n",
    "        inorder(node.right)\n",
    "def postorder(node):\n",
    "    if node:\n",
    "        postorder(node.left)\n",
    "        postorder(node.right)\n",
    "        print(node.value, end=' ')\n",
    "root = Node(1)\n",
    "root.left = Node(2)\n",
    "root.right = Node(3)\n",
    "root.left.left = Node(4)\n",
    "root.left.right = Node(5)\n",
    "print(\"Preorder:\")\n",
    "preorder(root)\n",
    "print(\"\\nInorder\")\n",
    "inorder(root)\n",
    "print(\"\\nPostorder:\")\n",
    "postorder(root)"
   ]
  }
 ],
 "metadata": {
  "kernelspec": {
   "display_name": "Python 3",
   "language": "python",
   "name": "python3"
  },
  "language_info": {
   "codemirror_mode": {
    "name": "ipython",
    "version": 3
   },
   "file_extension": ".py",
   "mimetype": "text/x-python",
   "name": "python",
   "nbconvert_exporter": "python",
   "pygments_lexer": "ipython3",
   "version": "3.12.3"
  }
 },
 "nbformat": 4,
 "nbformat_minor": 2
}
