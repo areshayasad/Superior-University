{
 "cells": [
  {
   "cell_type": "code",
   "execution_count": 2,
   "metadata": {},
   "outputs": [],
   "source": [
    "import pandas as pd\n",
    "import numpy as np\n",
    "from sklearn.ensemble import GradientBoostingRegressor\n",
    "from xgboost import XGBRegressor\n",
    "from sklearn.preprocessing import LabelEncoder\n",
    "from sklearn.model_selection import train_test_split\n",
    "from sklearn.metrics import mean_squared_error, r2_score\n",
    "import joblib"
   ]
  },
  {
   "cell_type": "code",
   "execution_count": 11,
   "metadata": {},
   "outputs": [
    {
     "name": "stdout",
     "output_type": "stream",
     "text": [
      "attributes \n",
      "Index(['date', 'price', 'bedrooms', 'bathrooms', 'sqft_living', 'sqft_lot',\n",
      "       'floors', 'waterfront', 'view', 'condition', 'sqft_above',\n",
      "       'sqft_basement', 'yr_built', 'yr_renovated', 'street', 'city',\n",
      "       'statezip', 'country'],\n",
      "      dtype='object')\n",
      "data instances\n",
      "date             4600\n",
      "price            4597\n",
      "bedrooms         4595\n",
      "bathrooms        4598\n",
      "sqft_living      4598\n",
      "sqft_lot         4598\n",
      "floors           4598\n",
      "waterfront       4595\n",
      "view             4598\n",
      "condition        4600\n",
      "sqft_above       4597\n",
      "sqft_basement    4597\n",
      "yr_built         4594\n",
      "yr_renovated     4600\n",
      "street           4597\n",
      "city             4596\n",
      "statezip         4597\n",
      "country          4594\n",
      "dtype: int64\n",
      "null va;ues\n",
      "date             0\n",
      "price            3\n",
      "bedrooms         5\n",
      "bathrooms        2\n",
      "sqft_living      2\n",
      "sqft_lot         2\n",
      "floors           2\n",
      "waterfront       5\n",
      "view             2\n",
      "condition        0\n",
      "sqft_above       3\n",
      "sqft_basement    3\n",
      "yr_built         6\n",
      "yr_renovated     0\n",
      "street           3\n",
      "city             4\n",
      "statezip         3\n",
      "country          6\n",
      "dtype: int64\n"
     ]
    }
   ],
   "source": [
    "df = pd.read_csv(\"data.csv\")\n",
    "print(\"attributes \")\n",
    "print(df.columns)\n",
    "print(\"data instances\")\n",
    "print(df.count())\n",
    "print(\"null va;ues\")\n",
    "print(df.isnull().sum())"
   ]
  },
  {
   "cell_type": "code",
   "execution_count": 5,
   "metadata": {},
   "outputs": [],
   "source": [
    "def fillNaObject(cols):\n",
    "    for col in cols:\n",
    "        df[col] = df[col].fillna(df[col].mode()[0])\n",
    "\n",
    "fillNaObject(['street','city','statezip','country'])\n",
    "\n",
    "def fillNaInt(cols):\n",
    "    for col in cols:\n",
    "        df[col] = df[col].fillna(df[col].mode()[0])\n",
    "\n",
    "fillNaInt(['bedrooms','bathrooms','floors','waterfront','view','yr_built'])\n",
    "\n",
    "def fillNaFloat(cols):\n",
    "    for col in cols:\n",
    "        df[col] = df[col].fillna(df[col].mean())\n",
    "\n",
    "fillNaFloat(['price','sqft_living','sqft_lot','sqft_above','sqft_basement'])"
   ]
  },
  {
   "cell_type": "code",
   "execution_count": 6,
   "metadata": {},
   "outputs": [],
   "source": [
    "def convertFloattoInt(cols):\n",
    "    for col in cols:\n",
    "        df[col] = df[col].astype('int64')\n",
    "\n",
    "convertFloattoInt(['price','bedrooms', 'bathrooms','floors','waterfront','view', 'yr_built', 'sqft_living', 'sqft_lot', 'sqft_above', 'sqft_basement'])\n",
    "\n",
    "df.drop(columns=['street','country','date'], inplace=True)"
   ]
  },
  {
   "cell_type": "code",
   "execution_count": 7,
   "metadata": {},
   "outputs": [],
   "source": [
    "def convertObjtoInt(cols):\n",
    "    for col in cols:\n",
    "        le = LabelEncoder()\n",
    "        df[col] = le.fit_transform(df[col])\n",
    "\n",
    "convertObjtoInt(['city','statezip'])\n",
    "\n",
    "df['price'] = df['price'].fillna(df['price'].mode()[0])"
   ]
  },
  {
   "cell_type": "code",
   "execution_count": 8,
   "metadata": {},
   "outputs": [
    {
     "name": "stdout",
     "output_type": "stream",
     "text": [
      "missing vakues train_y 0\n",
      "missing values test_y  0\n"
     ]
    }
   ],
   "source": [
    "trainData, testData = train_test_split(df, test_size=0.2,shuffle=False)\n",
    "\n",
    "train_x = trainData.iloc[:, 1:]\n",
    "train_y = trainData.iloc[:, 0]\n",
    "test_x = testData.iloc[:, 1:]\n",
    "test_y = testData.iloc[:, 0]\n",
    "print(\"missing vakues train_y\",train_y.isnull().sum())\n",
    "print(\"missing values test_y \",test_y.isnull().sum())"
   ]
  },
  {
   "cell_type": "code",
   "execution_count": null,
   "metadata": {},
   "outputs": [
    {
     "name": "stdout",
     "output_type": "stream",
     "text": [
      "using GradientBoostingRegressor \n",
      "GradientBoostingRegressor Mean Squared Error:  1027065269818.388\n",
      "GradientBoostingRegressor R2 Score:  0.026\n"
     ]
    }
   ],
   "source": [
    "print(\"using GradientBoostingRegressor\")\n",
    "model_gbr = GradientBoostingRegressor(n_estimators=100, max_depth=5, learning_rate=0.1, random_state=42)\n",
    "model_gbr.fit(train_x, train_y)\n",
    "\n",
    "joblib.dump(model_gbr, 'model_gbr.joblib')\n",
    "\n",
    "model_gbr_loaded = joblib.load('model_gbr.joblib')\n",
    "model_predictions_gbr = model_gbr_loaded.predict(test_x)\n",
    "\n",
    "testdata_predict = testData.copy(deep=True)\n",
    "testdata_predict['Prediction_GBR'] = model_predictions_gbr\n",
    "\n",
    "model_mse_gbr = mean_squared_error(test_y, model_predictions_gbr)\n",
    "model_r2_gbr = r2_score(test_y, model_predictions_gbr)\n",
    "print(\"GradientBoostingRegressor Mean Squared Error: \",round(model_mse_gbr, 3))\n",
    "print(\"GradientBoostingRegressor R2 Score: \",round(model_r2_gbr, 3))"
   ]
  },
  {
   "cell_type": "code",
   "execution_count": 10,
   "metadata": {},
   "outputs": [
    {
     "name": "stdout",
     "output_type": "stream",
     "text": [
      "using XGBoost Regressor\n",
      "XGBoost Regressor mean squared error: 1023232057150.284\n",
      "XGBoost Regressor R2 score: 0.029\n"
     ]
    }
   ],
   "source": [
    "print(\"using XGBoost Regressor\")\n",
    "model_xgb = XGBRegressor(n_estimators=100, max_depth=5, learning_rate=0.1, random_state=42)\n",
    "model_xgb.fit(train_x, train_y)\n",
    "\n",
    "joblib.dump(model_xgb,'model_xgb_regressor.joblib')\n",
    "\n",
    "model_xgb_loaded = joblib.load('model_xgb_regressor.joblib')\n",
    "model_predictions_xgb = model_xgb_loaded.predict(test_x)\n",
    "\n",
    "testdata_predict['Prediction_XGB'] = model_predictions_xgb\n",
    "\n",
    "model_mse_xgb = mean_squared_error(test_y, model_predictions_xgb)\n",
    "model_r2_xgb = r2_score(test_y, model_predictions_xgb)\n",
    "print(\"XGBoost Regressor mean squared error:\",round(model_mse_xgb, 3))\n",
    "print(\"XGBoost Regressor R2 score:\",round(model_r2_xgb, 3))"
   ]
  },
  {
   "cell_type": "code",
   "execution_count": null,
   "metadata": {},
   "outputs": [],
   "source": []
  }
 ],
 "metadata": {
  "kernelspec": {
   "display_name": "Python 3",
   "language": "python",
   "name": "python3"
  },
  "language_info": {
   "codemirror_mode": {
    "name": "ipython",
    "version": 3
   },
   "file_extension": ".py",
   "mimetype": "text/x-python",
   "name": "python",
   "nbconvert_exporter": "python",
   "pygments_lexer": "ipython3",
   "version": "3.12.3"
  }
 },
 "nbformat": 4,
 "nbformat_minor": 2
}
