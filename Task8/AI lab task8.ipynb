{
 "cells": [
  {
   "cell_type": "code",
   "execution_count": 1,
   "metadata": {},
   "outputs": [
    {
     "name": "stdout",
     "output_type": "stream",
     "text": [
      "The maximum value is: 23\n",
      "The minimum value is: 2\n"
     ]
    }
   ],
   "source": [
    "# Min-Max function to find the minimum or maximum value in a list\n",
    "def min_max(arr, isMaximizing):\n",
    "    if len(arr) == 1:\n",
    "        return arr[0]\n",
    "\n",
    "    if isMaximizing:\n",
    "        best = -float('inf') \n",
    "        for value in arr:\n",
    "            best = max(best, value) \n",
    "        return best\n",
    "\n",
    "    else:\n",
    "        best = float('inf')  \n",
    "        for value in arr:\n",
    "            best = min(best, value)  \n",
    "        return best\n",
    "\n",
    "if __name__ == \"__main__\":\n",
    "    arr = [3, 5, 2, 9, 12, 5, 23, 23]\n",
    "\n",
    "    max_value = min_max(arr, True)\n",
    "    print(f\"The maximum value is: {max_value}\")\n",
    "\n",
    "    min_value = min_max(arr, False)\n",
    "    print(f\"The minimum value is: {min_value}\")\n"
   ]
  }
 ],
 "metadata": {
  "kernelspec": {
   "display_name": "Python 3",
   "language": "python",
   "name": "python3"
  },
  "language_info": {
   "codemirror_mode": {
    "name": "ipython",
    "version": 3
   },
   "file_extension": ".py",
   "mimetype": "text/x-python",
   "name": "python",
   "nbconvert_exporter": "python",
   "pygments_lexer": "ipython3",
   "version": "3.12.3"
  }
 },
 "nbformat": 4,
 "nbformat_minor": 2
}
