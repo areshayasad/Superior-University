{
 "cells": [
  {
   "cell_type": "code",
   "execution_count": 1,
   "metadata": {},
   "outputs": [
    {
     "name": "stdout",
     "output_type": "stream",
     "text": [
      "Card number is invalid\n"
     ]
    }
   ],
   "source": [
    "def validate_luhn(card_number):\n",
    "    card_number = card_number.replace(\" \", \"\")\n",
    "    digits = [int(d) for d in card_number]  \n",
    "    check_digit = digits.pop()\n",
    "    digits = digits[::-1]\n",
    "    for i in range(1, len(digits), 2):\n",
    "        digits[i] *= 2\n",
    "        if digits[i] > 9:\n",
    "            digits[i] -= 9\n",
    "    total = sum(digits)\n",
    "    total += check_digit\n",
    "    return total % 10 == 0\n",
    "card_number = input(\"enter  your card number: \")\n",
    "if validate_luhn(card_number):\n",
    "    print(\"Card number is valid\")\n",
    "else:\n",
    "    print(\"Card number is invalid\")"
   ]
  },
  {
   "cell_type": "code",
   "execution_count": 3,
   "metadata": {},
   "outputs": [
    {
     "name": "stdout",
     "output_type": "stream",
     "text": [
      "Cleaned String: Hello World Hows it going\n"
     ]
    }
   ],
   "source": [
    "def remove_punctuation(user_input):\n",
    "    punctuations = r'''!()-[]{};:'\"\\,<>./?@#$%^&*_~'''\n",
    "    result = \"\"\n",
    "    for char in user_input:\n",
    "        if char not in punctuations:\n",
    "            result += char\n",
    "    return result\n",
    "user_input = \"Hello Ali!How're you?\"\n",
    "cleaned_input = remove_punctuation(user_input)\n",
    "print(\"Cleaned String:\", cleaned_input)\n"
   ]
  },
  {
   "cell_type": "code",
   "execution_count": 5,
   "metadata": {},
   "outputs": [
    {
     "name": "stdout",
     "output_type": "stream",
     "text": [
      "Sorted Text: do do to want what you\n"
     ]
    }
   ],
   "source": [
    "def alphabetical_sort(text):\n",
    "    words = text.split()\n",
    "    for i in range(len(words)):\n",
    "        for j in range(0, len(words) - i - 1):\n",
    "            if words[j] > words[j + 1]:\n",
    "                words[j], words[j + 1] = words[j + 1], words[j]\n",
    "    return ' '.join(words)\n",
    "text = \"do what you want to do\"\n",
    "sorted_text = alphabetical_sort(text)\n",
    "print(\"Sorted Text:\", sorted_text)"
   ]
  }
 ],
 "metadata": {
  "kernelspec": {
   "display_name": "Python 3",
   "language": "python",
   "name": "python3"
  },
  "language_info": {
   "codemirror_mode": {
    "name": "ipython",
    "version": 3
   },
   "file_extension": ".py",
   "mimetype": "text/x-python",
   "name": "python",
   "nbconvert_exporter": "python",
   "pygments_lexer": "ipython3",
   "version": "3.12.3"
  }
 },
 "nbformat": 4,
 "nbformat_minor": 2
}
