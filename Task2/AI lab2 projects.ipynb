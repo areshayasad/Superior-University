{
 "cells": [
  {
   "cell_type": "code",
   "execution_count": 8,
   "metadata": {},
   "outputs": [
    {
     "name": "stdout",
     "output_type": "stream",
     "text": [
      "\n",
      "Ali's turn. The number is: 1\n",
      "Ali is correct!\n",
      "\n",
      "Bilal's turn. The number is: 2\n",
      "Bilal made a mistake and is eliminated!\n",
      "\n",
      "Game Over! Ali is the winner!\n",
      "Eliminated players: Bilal\n"
     ]
    }
   ],
   "source": [
    "import random\n",
    "def fizzbuzz(number):\n",
    "    if number % 3 == 0 and number % 5 == 0:\n",
    "        return \"Fizz4Buzz\"\n",
    "    elif number % 3 == 0:\n",
    "        return \"Fizz\"\n",
    "    elif number % 5 == 0:\n",
    "        return \"Buzz\"\n",
    "    else:\n",
    "        return str(number)\n",
    "def play_fizzbuzz(players):\n",
    "    if len(players) < 2:\n",
    "        print(\"At least two players are required to play the game.\")\n",
    "        return\n",
    "    current_player_index = 0\n",
    "    eliminated = []\n",
    "    current_number = 1 \n",
    "    while len(players) > 1:\n",
    "        current_player = players[current_player_index]\n",
    "        correct_answer = fizzbuzz(current_number)\n",
    "        print(f\"\\n{current_player}'s turn. The number is: {current_number}\")\n",
    "        player_answer = input(f\"{current_player}, what do you say? \")\n",
    "        if player_answer.strip().lower() != correct_answer.lower():\n",
    "            print(f\"{current_player} made a mistake and is eliminated!\")\n",
    "            eliminated.append(current_player)\n",
    "            players.remove(current_player)\n",
    "            if current_player_index >= len(players):\n",
    "                current_player_index = 0\n",
    "        else:\n",
    "            print(f\"{current_player} is correct!\")\n",
    "            current_player_index = (current_player_index + 1) % len(players)\n",
    "        current_number += 1 \n",
    "    print(f\"\\nGame Over! {players[0]} is the winner!\")\n",
    "    print(f\"Eliminated players: {', '.join(eliminated)}\")\n",
    "players = [\"Ali\", \"Bilal\"]\n",
    "play_fizzbuzz(players)"
   ]
  },
  {
   "cell_type": "code",
   "execution_count": 1,
   "metadata": {},
   "outputs": [
    {
     "name": "stdout",
     "output_type": "stream",
     "text": [
      "\n",
      "Average Budget: $166688125.00\n",
      "Movies with a budget higher than the average:\n",
      "Pirates of the Caribbean: On Stranger Tides - $379000000 (212311875.00 above the average)\n",
      "Avengers: Age of Ultron - $365000000 (198311875.00 above the average)\n",
      "Avengers: Endgame - $356000000 (189311875.00 above the average)\n",
      "Incredibles 2 - $200000000 (33311875.00 above the average)\n",
      "\n",
      "Number of movies with a budget higher than the average: 4\n"
     ]
    }
   ],
   "source": [
    "movies =[\n",
    "    (\"Eternal Sunshine of the Spotless Mind\", 20000000),\n",
    "    (\"Memento\", 9000000),\n",
    "    (\"Requiem for a Dream\", 4500000),\n",
    "    (\"Pirates of the Caribbean: On Stranger Tides\", 379000000),\n",
    "    (\"Avengers: Age of Ultron\", 365000000),\n",
    "    (\"Avengers: Endgame\", 356000000),\n",
    "    (\"Incredibles 2\", 200000000)\n",
    "]\n",
    "def add_movies():\n",
    "    num = int(input(\"How many movies would you like to add? \"))\n",
    "    for _ in range(num):\n",
    "        movie_name = input(\"Enter the movie name: \")\n",
    "        budget = int(input(\"Enter the movie budget: \"))\n",
    "        movies.append((movie_name,budget))\n",
    "def calculate_average(movies):\n",
    "    total_budget = sum(budget for _,budget in movies)\n",
    "    average_budget = total_budget / len(movies)\n",
    "    return average_budget\n",
    "def find_high_budget_movies(movies,average_budget):\n",
    "    high_budget_movies = [movie for movie in movies if movie[1] > average_budget]\n",
    "    print(f\"\\nAverage Budget: ${average_budget:.2f}\")\n",
    "    print(\"Movies with a budget higher than the average:\")\n",
    "    for movie, budget in high_budget_movies:\n",
    "        print(f\"{movie} - ${budget} ({budget - average_budget:.2f} above the average)\")\n",
    "    print(f\"\\nNumber of movies with a budget higher than the average: {len(high_budget_movies)}\")\n",
    "add_movies()\n",
    "average_budget = calculate_average(movies)\n",
    "find_high_budget_movies(movies, average_budget)\n"
   ]
  }
 ],
 "metadata": {
  "kernelspec": {
   "display_name": "Python 3",
   "language": "python",
   "name": "python3"
  },
  "language_info": {
   "codemirror_mode": {
    "name": "ipython",
    "version": 3
   },
   "file_extension": ".py",
   "mimetype": "text/x-python",
   "name": "python",
   "nbconvert_exporter": "python",
   "pygments_lexer": "ipython3",
   "version": "3.12.3"
  }
 },
 "nbformat": 4,
 "nbformat_minor": 2
}
