{
 "cells": [
  {
   "cell_type": "code",
   "execution_count": 1,
   "metadata": {},
   "outputs": [
    {
     "name": "stdout",
     "output_type": "stream",
     "text": [
      "1 2 3 "
     ]
    }
   ],
   "source": [
    "#Task1\n",
    "def bfs_without_queue(tree):\n",
    "    if not tree:\n",
    "        return\n",
    "    nodes = [tree] \n",
    "    while nodes:\n",
    "        current = nodes.pop(0)\n",
    "        print(current['value'], end=' ')\n",
    "        if current['left']:\n",
    "            nodes.append(current['left'])\n",
    "        if current['right']:\n",
    "            nodes.append(current['right'])\n",
    "tree = {\n",
    "    'value': 1,\n",
    "    'left': {'value': 2, 'left': None, 'right': None},\n",
    "    'right': {'value': 3, 'left': None, 'right': None}\n",
    "}\n",
    "bfs_without_queue(tree)"
   ]
  },
  {
   "cell_type": "code",
   "execution_count": 2,
   "metadata": {},
   "outputs": [
    {
     "name": "stdout",
     "output_type": "stream",
     "text": [
      "1 2 3 4 5 "
     ]
    }
   ],
   "source": [
    "#Task2\n",
    "class Node:\n",
    "    def __init__(self, value):\n",
    "        self.value = value\n",
    "        self.left = None\n",
    "        self.right = None\n",
    "def bfs_with_queue(root):\n",
    "    if root is None:\n",
    "        return\n",
    "    queue = [root] \n",
    "    while queue:\n",
    "        node = queue.pop(0)\n",
    "        print(node.value, end=' ')\n",
    "\n",
    "        if node.left:\n",
    "            queue.append(node.left)\n",
    "        if node.right:\n",
    "            queue.append(node.right)\n",
    "root = Node(1)\n",
    "root.left = Node(2)\n",
    "root.right = Node(3)\n",
    "root.left.left = Node(4)\n",
    "root.left.right = Node(5)\n",
    "bfs_with_queue(root)"
   ]
  }
 ],
 "metadata": {
  "kernelspec": {
   "display_name": "Python 3",
   "language": "python",
   "name": "python3"
  },
  "language_info": {
   "codemirror_mode": {
    "name": "ipython",
    "version": 3
   },
   "file_extension": ".py",
   "mimetype": "text/x-python",
   "name": "python",
   "nbconvert_exporter": "python",
   "pygments_lexer": "ipython3",
   "version": "3.12.3"
  }
 },
 "nbformat": 4,
 "nbformat_minor": 2
}
